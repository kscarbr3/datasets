{
  "nbformat": 4,
  "nbformat_minor": 0,
  "metadata": {
    "colab": {
      "name": "assignment02.ipynb",
      "version": "0.3.2",
      "provenance": [],
      "collapsed_sections": [],
      "include_colab_link": true
    },
    "kernelspec": {
      "name": "python3",
      "display_name": "Python 3"
    }
  },
  "cells": [
    {
      "cell_type": "markdown",
      "metadata": {
        "id": "view-in-github",
        "colab_type": "text"
      },
      "source": [
        "<a href=\"https://colab.research.google.com/github/kscarbr3/datasets/blob/master/assignment02.ipynb\" target=\"_parent\"><img src=\"https://colab.research.google.com/assets/colab-badge.svg\" alt=\"Open In Colab\"/></a>"
      ]
    },
    {
      "cell_type": "code",
      "metadata": {
        "id": "Gs-fIE8tbVbf",
        "colab_type": "code",
        "colab": {}
      },
      "source": [
        "import pandas as pd\n",
        "PATH = \"http://optimizizer.com/data/game-ie200-fall2019.csv\"  # file location\n",
        "df = pd.read_csv(PATH)  # open csv file and save data to a variable =df="
      ],
      "execution_count": 0,
      "outputs": []
    },
    {
      "cell_type": "code",
      "metadata": {
        "id": "4EN5wgs_dezO",
        "colab_type": "code",
        "colab": {}
      },
      "source": [
        "sbs1 = df[(df.gender==\"female\")&(df.pcard==\"ace\")&(df.ccard==\"queen\")&(df.position==\"first\")]"
      ],
      "execution_count": 0,
      "outputs": []
    },
    {
      "cell_type": "code",
      "metadata": {
        "id": "3dyMH7VWbEMb",
        "colab_type": "code",
        "colab": {}
      },
      "source": [
        "sbs2 = df[(df.gender==\"female\") & ((df.pcard==\"ace\")|(df.pcard==\"queen\"))]"
      ],
      "execution_count": 0,
      "outputs": []
    }
  ]
}